{
 "cells": [
  {
   "cell_type": "code",
   "execution_count": 6,
   "metadata": {},
   "outputs": [],
   "source": [
    "from decision_tree import Node, get_observations\n",
    "import random"
   ]
  },
  {
   "cell_type": "code",
   "execution_count": 13,
   "metadata": {},
   "outputs": [],
   "source": [
    "filepath = './Homework 2 data/Dbig.txt'\n",
    "obs = get_observations(filepath)\n",
    "# obs[:5]\n",
    "\n",
    "train_set_size = 8192\n",
    "random.seed(42)\n",
    "obs_permuted = random.sample(obs, len(obs))\n",
    "obs_train = obs_permuted[:train_set_size]\n",
    "obs_test = obs_permuted[train_set_size:]\n",
    "# obs_permuted[:5]"
   ]
  },
  {
   "cell_type": "code",
   "execution_count": null,
   "metadata": {},
   "outputs": [],
   "source": [
    "n_values = [32, 128, 512, 2048, 8192]\n",
    "answers = []\n",
    "\n",
    "# fill answer with (decision tree, n used to train tree, number of nodes in tree, err on test set for this tree)\n",
    "for n in n_values:\n",
    "    obs_n = obs_train[:n]\n",
    "    root = make_subtree(obs_n)\n",
    "    num_nodes_in_tree = root.count_nodes()\n",
    "    err_n = root.err(obs_test)\n",
    "    # TODO print out for homework\n",
    "    # store in answers\n",
    "    pass\n",
    "\n",
    "### 7.1 \"List n, number of nodes in that tree, errn\"\n",
    "# TODO\n",
    "\n",
    "### 7.2 \"Plot n vs. errn. This is known as a learning curve (a single plot). \"\n",
    "# TODO\n",
    "\n",
    "### 7.3 \"Visualize your decision trees’ decision boundary (five plots)\n",
    "# TODO\n",
    "for ans in answers:\n"
   ]
  }
 ],
 "metadata": {
  "kernelspec": {
   "display_name": "Python 3",
   "language": "python",
   "name": "python3"
  },
  "language_info": {
   "codemirror_mode": {
    "name": "ipython",
    "version": 3
   },
   "file_extension": ".py",
   "mimetype": "text/x-python",
   "name": "python",
   "nbconvert_exporter": "python",
   "pygments_lexer": "ipython3",
   "version": "3.10.12"
  },
  "orig_nbformat": 4
 },
 "nbformat": 4,
 "nbformat_minor": 2
}
