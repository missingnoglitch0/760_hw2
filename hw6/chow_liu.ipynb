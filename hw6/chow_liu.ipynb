{
 "cells": [
  {
   "cell_type": "code",
   "execution_count": 31,
   "metadata": {},
   "outputs": [],
   "source": [
    "import pandas as pd\n",
    "from math import log2"
   ]
  },
  {
   "cell_type": "code",
   "execution_count": 13,
   "metadata": {},
   "outputs": [
    {
     "data": {
      "text/plain": [
       "50"
      ]
     },
     "execution_count": 13,
     "metadata": {},
     "output_type": "execute_result"
    }
   ],
   "source": [
    "counts = [ 36, 4, 2, 8, 9, 1, 8, 32 ]\n",
    "\n",
    "var_tuples = [ { 'X': i % 8 < 4, 'Y': i % 4 < 2, 'Z': i % 2 < 1 } for i in range(8) ]\n",
    "\n",
    "df = pd.DataFrame(var_tuples)\n",
    "df['Count'] = counts\n",
    "df"
   ]
  },
  {
   "cell_type": "code",
   "execution_count": 35,
   "metadata": {},
   "outputs": [
    {
     "name": "stdout",
     "output_type": "stream",
     "text": [
      "{'X': {True: 0.5, False: 0.5}, 'Y': {True: 0.5, False: 0.5}, 'Z': {True: 0.55, False: 0.45}}\n",
      "[(True, True), (True, False), (False, True), (False, False)]\n",
      "('X', 'Y') {(True, True): 0.4, (True, False): 0.1, (False, True): 0.1, (False, False): 0.4}\n",
      "('X', 'Z') {(True, True): 0.38, (True, False): 0.12, (False, True): 0.17, (False, False): 0.33}\n",
      "('Z', 'Y') {(True, True): 0.45, (True, False): 0.1, (False, True): 0.05, (False, False): 0.4}\n",
      "{('X', 'Y'): 0.2712287620450551, ('X', 'Z'): 0.18233853759949703, ('Z', 'Y'): 0.3320299994230751}\n"
     ]
    }
   ],
   "source": [
    "count_total = sum(df['Count'])\n",
    "variable_names = [ 'X', 'Y', 'Z' ]\n",
    "# df['Count'][df['X'] == True]\n",
    "possible_values_single = [ True, False ]\n",
    "prob_single = { variable_name: { b: sum(df['Count'][df[variable_name] == b]) / count_total for b in possible_values_single } for variable_name in variable_names }\n",
    "\n",
    "print(prob_single)\n",
    "\n",
    "joint_tuples = [ ('X', 'Y'), ('X', 'Z'), ('Z', 'Y') ]\n",
    "possible_values_tuples = [ (i, j) for i in possible_values_single for j in possible_values_single ]\n",
    "print(possible_values_tuples)\n",
    "prob_joint = { (i,j): { (b1,b2): sum(df[(df[i] == b1) & (df[j] == b2)]['Count']) / count_total for b1,b2 in possible_values_tuples} for i,j in joint_tuples }\n",
    "# print(prob_joint)\n",
    "for i,j in prob_joint.items():\n",
    "    print(i, j)\n",
    "\n",
    "# Now that we have p(q) for all possible values of q and p(j,k) for all values of j,k we can proceed with the mutual information calculations\n",
    "# I(X,Y) = \n",
    "\n",
    "mutual_informations = {}\n",
    "for t in joint_tuples:\n",
    "    i,j = t\n",
    "    mi = 0\n",
    "    for b in possible_values_tuples:\n",
    "        b1, b2 = b\n",
    "        p_x = prob_single[i][b1]\n",
    "        p_y = prob_single[j][b2]\n",
    "        p_x_y = prob_joint[t][b]\n",
    "        mi = p_x_y * log2(p_x_y / (p_x * p_y))\n",
    "    mutual_informations[t] = mi\n",
    "\n",
    "print(mutual_informations)"
   ]
  }
 ],
 "metadata": {
  "kernelspec": {
   "display_name": "Python 3",
   "language": "python",
   "name": "python3"
  },
  "language_info": {
   "codemirror_mode": {
    "name": "ipython",
    "version": 3
   },
   "file_extension": ".py",
   "mimetype": "text/x-python",
   "name": "python",
   "nbconvert_exporter": "python",
   "pygments_lexer": "ipython3",
   "version": "3.10.12"
  }
 },
 "nbformat": 4,
 "nbformat_minor": 2
}
