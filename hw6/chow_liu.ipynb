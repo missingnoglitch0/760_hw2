{
 "cells": [
  {
   "cell_type": "code",
   "execution_count": 2,
   "metadata": {},
   "outputs": [],
   "source": [
    "import pandas as pd\n",
    "from math import log2"
   ]
  },
  {
   "cell_type": "code",
   "execution_count": 3,
   "metadata": {},
   "outputs": [
    {
     "data": {
      "text/html": [
       "<div>\n",
       "<style scoped>\n",
       "    .dataframe tbody tr th:only-of-type {\n",
       "        vertical-align: middle;\n",
       "    }\n",
       "\n",
       "    .dataframe tbody tr th {\n",
       "        vertical-align: top;\n",
       "    }\n",
       "\n",
       "    .dataframe thead th {\n",
       "        text-align: right;\n",
       "    }\n",
       "</style>\n",
       "<table border=\"1\" class=\"dataframe\">\n",
       "  <thead>\n",
       "    <tr style=\"text-align: right;\">\n",
       "      <th></th>\n",
       "      <th>X</th>\n",
       "      <th>Y</th>\n",
       "      <th>Z</th>\n",
       "      <th>Count</th>\n",
       "    </tr>\n",
       "  </thead>\n",
       "  <tbody>\n",
       "    <tr>\n",
       "      <th>0</th>\n",
       "      <td>True</td>\n",
       "      <td>True</td>\n",
       "      <td>True</td>\n",
       "      <td>36</td>\n",
       "    </tr>\n",
       "    <tr>\n",
       "      <th>1</th>\n",
       "      <td>True</td>\n",
       "      <td>True</td>\n",
       "      <td>False</td>\n",
       "      <td>4</td>\n",
       "    </tr>\n",
       "    <tr>\n",
       "      <th>2</th>\n",
       "      <td>True</td>\n",
       "      <td>False</td>\n",
       "      <td>True</td>\n",
       "      <td>2</td>\n",
       "    </tr>\n",
       "    <tr>\n",
       "      <th>3</th>\n",
       "      <td>True</td>\n",
       "      <td>False</td>\n",
       "      <td>False</td>\n",
       "      <td>8</td>\n",
       "    </tr>\n",
       "    <tr>\n",
       "      <th>4</th>\n",
       "      <td>False</td>\n",
       "      <td>True</td>\n",
       "      <td>True</td>\n",
       "      <td>9</td>\n",
       "    </tr>\n",
       "    <tr>\n",
       "      <th>5</th>\n",
       "      <td>False</td>\n",
       "      <td>True</td>\n",
       "      <td>False</td>\n",
       "      <td>1</td>\n",
       "    </tr>\n",
       "    <tr>\n",
       "      <th>6</th>\n",
       "      <td>False</td>\n",
       "      <td>False</td>\n",
       "      <td>True</td>\n",
       "      <td>8</td>\n",
       "    </tr>\n",
       "    <tr>\n",
       "      <th>7</th>\n",
       "      <td>False</td>\n",
       "      <td>False</td>\n",
       "      <td>False</td>\n",
       "      <td>32</td>\n",
       "    </tr>\n",
       "  </tbody>\n",
       "</table>\n",
       "</div>"
      ],
      "text/plain": [
       "       X      Y      Z  Count\n",
       "0   True   True   True     36\n",
       "1   True   True  False      4\n",
       "2   True  False   True      2\n",
       "3   True  False  False      8\n",
       "4  False   True   True      9\n",
       "5  False   True  False      1\n",
       "6  False  False   True      8\n",
       "7  False  False  False     32"
      ]
     },
     "execution_count": 3,
     "metadata": {},
     "output_type": "execute_result"
    }
   ],
   "source": [
    "counts = [ 36, 4, 2, 8, 9, 1, 8, 32 ]\n",
    "\n",
    "var_tuples = [ { 'X': i % 8 < 4, 'Y': i % 4 < 2, 'Z': i % 2 < 1 } for i in range(8) ]\n",
    "\n",
    "df = pd.DataFrame(var_tuples)\n",
    "df['Count'] = counts\n",
    "df"
   ]
  },
  {
   "cell_type": "code",
   "execution_count": 14,
   "metadata": {},
   "outputs": [
    {
     "name": "stdout",
     "output_type": "stream",
     "text": [
      "P(X) = {True: 0.5, False: 0.5}\n",
      "P(Y) = {True: 0.5, False: 0.5}\n",
      "P(Z) = {True: 0.55, False: 0.45}\n",
      "P(X, Y) = {(True, True): 0.4, (True, False): 0.1, (False, True): 0.1, (False, False): 0.4}\n",
      "P(X, Z) = {(True, True): 0.38, (True, False): 0.12, (False, True): 0.17, (False, False): 0.33}\n",
      "P(Z, Y) = {(True, True): 0.45, (True, False): 0.1, (False, True): 0.05, (False, False): 0.4}\n",
      "I(X,Y) =\n",
      "+0.4 * log2(0.4/(0.5 * 0.5))= 0.4 * log2(1.6)= 0.2712287620450551\n",
      "+0.1 * log2(0.1/(0.5 * 0.5))= 0.1 * log2(0.4)= -0.1321928094887362\n",
      "+0.1 * log2(0.1/(0.5 * 0.5))= 0.1 * log2(0.4)= -0.1321928094887362\n",
      "+0.4 * log2(0.4/(0.5 * 0.5))= 0.4 * log2(1.6)= 0.2712287620450551\n",
      "= 0.27807190511263774\n",
      "I(X,Z) =\n",
      "+0.38 * log2(0.38/(0.5 * 0.55))= 0.38 * log2(1.3818181818181816)= 0.17729576396919175\n",
      "+0.12 * log2(0.12/(0.5 * 0.45))= 0.12 * log2(0.5333333333333333)= -0.10882687147302222\n",
      "+0.17 * log2(0.17/(0.5 * 0.55))= 0.17 * log2(0.6181818181818182)= -0.11796246828663445\n",
      "+0.33 * log2(0.33/(0.5 * 0.45))= 0.33 * log2(1.4666666666666668)= 0.18233853759949703\n",
      "= 0.1328449618090321\n",
      "I(Z,Y) =\n",
      "+0.45 * log2(0.45/(0.55 * 0.5))= 0.45 * log2(1.6363636363636362)= 0.3197220222622567\n",
      "+0.1 * log2(0.1/(0.55 * 0.5))= 0.1 * log2(0.36363636363636365)= -0.14594316186372974\n",
      "+0.05 * log2(0.05/(0.45 * 0.5))= 0.05 * log2(0.22222222222222224)= -0.10849625007211561\n",
      "+0.4 * log2(0.4/(0.45 * 0.5))= 0.4 * log2(1.777777777777778)= 0.3320299994230751\n",
      "= 0.39731260974948646\n"
     ]
    }
   ],
   "source": [
    "count_total = sum(df['Count'])\n",
    "variable_names = [ 'X', 'Y', 'Z' ]\n",
    "# df['Count'][df['X'] == True]\n",
    "possible_values_single = [ True, False ]\n",
    "prob_single = { variable_name: { b: sum(df['Count'][df[variable_name] == b]) / count_total for b in possible_values_single } for variable_name in variable_names }\n",
    "\n",
    "# print(prob_single)\n",
    "for k, v in prob_single.items():\n",
    "    print(f'P({k}) = {v}')\n",
    "\n",
    "joint_tuples = [ ('X', 'Y'), ('X', 'Z'), ('Z', 'Y') ]\n",
    "possible_values_tuples = [ (i, j) for i in possible_values_single for j in possible_values_single ]\n",
    "# print(possible_values_tuples)\n",
    "prob_joint = { (i,j): { (b1,b2): sum(df[(df[i] == b1) & (df[j] == b2)]['Count']) / count_total for b1,b2 in possible_values_tuples} for i,j in joint_tuples }\n",
    "# print(prob_joint)\n",
    "for k, v in prob_joint.items():\n",
    "    print(f'P({k[0]}, {k[1]}) = {v}')\n",
    "\n",
    "# Now that we have p(q) for all possible values of q and p(j,k) for all values of j,k we can proceed with the mutual information calculations\n",
    "# I(X,Y) = \n",
    "\n",
    "mutual_informations = {}\n",
    "for t in joint_tuples:\n",
    "    i,j = t\n",
    "    mi = 0\n",
    "    print(f'I({i},{j}) =')\n",
    "    for b in possible_values_tuples:\n",
    "        b1, b2 = b\n",
    "        p_x = prob_single[i][b1]\n",
    "        p_y = prob_single[j][b2]\n",
    "        p_x_y = prob_joint[t][b]\n",
    "        ind = p_x_y * log2(p_x_y / (p_x * p_y))\n",
    "        print(f'+{p_x_y} * log2({p_x_y}/({p_x} * {p_y}))', end='')\n",
    "        print(f'= {p_x_y} * log2({p_x_y / (p_x * p_y)})', end='')\n",
    "        print(f'= {ind}')\n",
    "        mi += ind\n",
    "    mutual_informations[t] = mi\n",
    "    print(f'= {mi}')\n",
    "\n",
    "# print(mutual_informations)"
   ]
  },
  {
   "cell_type": "code",
   "execution_count": 9,
   "metadata": {},
   "outputs": [
    {
     "name": "stdout",
     "output_type": "stream",
     "text": [
      "I(X, Y) = 0.27807190511263774\n",
      "I(X, Z) = 0.1328449618090321\n",
      "I(Z, Y) = 0.39731260974948646\n"
     ]
    }
   ],
   "source": [
    "# printing 3.1-3\n",
    "for k, v in mutual_informations.items():\n",
    "    print(f'I({k[0]}, {k[1]}) = {v}')"
   ]
  }
 ],
 "metadata": {
  "kernelspec": {
   "display_name": "Python 3",
   "language": "python",
   "name": "python3"
  },
  "language_info": {
   "codemirror_mode": {
    "name": "ipython",
    "version": 3
   },
   "file_extension": ".py",
   "mimetype": "text/x-python",
   "name": "python",
   "nbconvert_exporter": "python",
   "pygments_lexer": "ipython3",
   "version": "3.10.12"
  }
 },
 "nbformat": 4,
 "nbformat_minor": 2
}
