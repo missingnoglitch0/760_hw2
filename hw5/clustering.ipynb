{
 "cells": [
  {
   "cell_type": "code",
   "execution_count": 6,
   "metadata": {},
   "outputs": [],
   "source": [
    "import numpy as np\n",
    "from numpy.random import multivariate_normal"
   ]
  },
  {
   "cell_type": "code",
   "execution_count": 76,
   "metadata": {},
   "outputs": [],
   "source": [
    "P_a = [[-1, -1], [[2, 0.5], [0.5, 1]]]\n",
    "P_b = [[1, -1] , [[1, -0.5], [-0.5, 2]]]\n",
    "P_c = [[0, 1], [[1, 0], [0, 2]]]\n",
    "params = [P_a, P_b, P_c]\n",
    "num_dists = len(params)\n",
    "means = [p[0] for p in params]\n",
    "covs = [p[1] for p in params]\n",
    "dist_means = np.array(means)\n",
    "dist_covs = np.array(covs)"
   ]
  },
  {
   "cell_type": "code",
   "execution_count": 89,
   "metadata": {},
   "outputs": [],
   "source": [
    "params_sigma = [0.5, 1, 2, 4, 8]\n",
    "points_per_dist = 100\n",
    "datasets = []\n",
    "for sigma in params_sigma:\n",
    "    dist_covs_mult = sigma*dist_covs\n",
    "    obs = [multivariate_normal(dist_means[i], dist_covs_mult[i], size=points_per_dist) for i in range(num_dists)]\n",
    "    dataset_sigma = np.concatenate(obs)\n",
    "    datasets.append(dataset_sigma)\n",
    "\n",
    "datasets = np.array(datasets)\n",
    "# datasets"
   ]
  },
  {
   "cell_type": "code",
   "execution_count": 90,
   "metadata": {},
   "outputs": [
    {
     "data": {
      "text/plain": [
       "array([[[-0.8482905 , -0.79838768],\n",
       "        [ 0.02916495, -1.44431415],\n",
       "        [-0.93412817, -0.68099494],\n",
       "        ...,\n",
       "        [-0.16686742,  0.84960635],\n",
       "        [ 0.25438052,  2.27838447],\n",
       "        [ 0.05334495, -0.44099863]],\n",
       "\n",
       "       [[-1.41261886, -0.79515639],\n",
       "        [-0.18299114, -0.43391453],\n",
       "        [-1.70417545, -1.23361947],\n",
       "        ...,\n",
       "        [ 1.38227994,  0.02506312],\n",
       "        [-1.00578948,  2.51465693],\n",
       "        [-0.33896263,  2.19528387]],\n",
       "\n",
       "       [[-3.6478127 , -2.89228292],\n",
       "        [-0.23801508,  0.41682905],\n",
       "        [-2.46294489, -2.09931292],\n",
       "        ...,\n",
       "        [-1.7060832 ,  1.60837734],\n",
       "        [-1.42046994, -0.33967817],\n",
       "        [ 0.40645897, -1.05030281]],\n",
       "\n",
       "       [[-3.61972757,  1.54500532],\n",
       "        [ 1.76844394, -4.0091375 ],\n",
       "        [-3.01435694, -2.35254   ],\n",
       "        ...,\n",
       "        [-2.36784907, -0.04954774],\n",
       "        [-4.39044889,  0.46639675],\n",
       "        [ 2.08746557, -0.40017144]],\n",
       "\n",
       "       [[-1.64355826, -0.60388873],\n",
       "        [-3.58794108,  0.6904816 ],\n",
       "        [-3.40248817, -4.5305661 ],\n",
       "        ...,\n",
       "        [ 0.42497609,  5.08568374],\n",
       "        [-2.17849555, -1.15831396],\n",
       "        [ 2.7318787 , -1.28226979]]])"
      ]
     },
     "execution_count": 90,
     "metadata": {},
     "output_type": "execute_result"
    }
   ],
   "source": [
    "datasets[0]"
   ]
  }
 ],
 "metadata": {
  "kernelspec": {
   "display_name": "Python 3",
   "language": "python",
   "name": "python3"
  },
  "language_info": {
   "codemirror_mode": {
    "name": "ipython",
    "version": 3
   },
   "file_extension": ".py",
   "mimetype": "text/x-python",
   "name": "python",
   "nbconvert_exporter": "python",
   "pygments_lexer": "ipython3",
   "version": "3.10.12"
  }
 },
 "nbformat": 4,
 "nbformat_minor": 2
}
